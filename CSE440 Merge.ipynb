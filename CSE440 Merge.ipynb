{
  "nbformat": 4,
  "nbformat_minor": 0,
  "metadata": {
    "colab": {
      "provenance": [],
      "collapsed_sections": [],
      "include_colab_link": true
    },
    "kernelspec": {
      "name": "python3",
      "display_name": "Python 3"
    },
    "language_info": {
      "name": "python"
    }
  },
  "cells": [
    {
      "cell_type": "markdown",
      "metadata": {
        "id": "view-in-github",
        "colab_type": "text"
      },
      "source": [
        "<a href=\"https://colab.research.google.com/github/mritunjoychk/CSE440-Project_Dementia-Detection_Summer-22/blob/main/CSE440%20Merge.ipynb\" target=\"_parent\"><img src=\"https://colab.research.google.com/assets/colab-badge.svg\" alt=\"Open In Colab\"/></a>"
      ]
    },
    {
      "cell_type": "code",
      "source": [
        "import pandas as pd\n",
        "import numpy as np\n",
        "import seaborn as sns\n",
        "import matplotlib.pyplot as plt\n",
        "from sklearn.metrics import classification_report,accuracy_score\n",
        "from sklearn.ensemble import IsolationForest\n",
        "from sklearn.neighbors import LocalOutlierFactor\n",
        "from sklearn.svm import OneClassSVM\n",
        "from pylab import rcParams\n",
        "rcParams['figure.figsize'] = 14, 8\n",
        "RANDOM_SEED = 42\n",
        "from sklearn.preprocessing import LabelEncoder\n",
        "\n",
        "from sklearn.metrics import f1_score\n",
        "\n",
        "from sklearn.linear_model import LogisticRegression\n",
        "from sklearn.preprocessing import StandardScaler\n",
        "from sklearn.metrics import confusion_matrix, classification_report\n",
        "\n",
        "from sklearn import svm\n",
        "from sklearn.metrics import accuracy_score\n"
      ],
      "metadata": {
        "id": "6Xg8U1fO1r27"
      },
      "execution_count": null,
      "outputs": []
    },
    {
      "cell_type": "markdown",
      "source": [
        "# **Loading Dataset**"
      ],
      "metadata": {
        "id": "TiqMssX71Vgm"
      }
    },
    {
      "cell_type": "code",
      "source": [
        "\n",
        "from google.colab import drive\n",
        "drive.mount('/content/drive')"
      ],
      "metadata": {
        "colab": {
          "base_uri": "https://localhost:8080/"
        },
        "id": "S71Vh5JC1ay3",
        "outputId": "1abb39c3-b58d-4739-a202-9594ecc6c098"
      },
      "execution_count": null,
      "outputs": [
        {
          "output_type": "stream",
          "name": "stdout",
          "text": [
            "Mounted at /content/drive\n"
          ]
        }
      ]
    },
    {
      "cell_type": "code",
      "source": [
        "data= pd.read_excel(\"/content/drive/MyDrive/CSE 440 Project /oasis_longitudinal_demographics.xlsx\")"
      ],
      "metadata": {
        "id": "G7J-QxBj14Ib"
      },
      "execution_count": null,
      "outputs": []
    },
    {
      "cell_type": "code",
      "source": [
        "data.head()"
      ],
      "metadata": {
        "colab": {
          "base_uri": "https://localhost:8080/",
          "height": 206
        },
        "id": "VubY5fzQ2n0l",
        "outputId": "9b5bf2cf-fa83-4f25-a70a-c5ea84f6a925"
      },
      "execution_count": null,
      "outputs": [
        {
          "output_type": "execute_result",
          "data": {
            "text/plain": [
              "  Subject ID         MRI ID        Group  Visit  MR Delay M/F Hand  Age  EDUC  \\\n",
              "0  OAS2_0001  OAS2_0001_MR1  Nondemented      1         0   M    R   87    14   \n",
              "1  OAS2_0001  OAS2_0001_MR2  Nondemented      2       457   M    R   88    14   \n",
              "2  OAS2_0002  OAS2_0002_MR1     Demented      1         0   M    R   75    12   \n",
              "3  OAS2_0002  OAS2_0002_MR2     Demented      2       560   M    R   76    12   \n",
              "4  OAS2_0002  OAS2_0002_MR3     Demented      3      1895   M    R   80    12   \n",
              "\n",
              "   SES  MMSE  CDR         eTIV      nWBV       ASF  \n",
              "0  2.0  27.0  0.0  1986.550000  0.696106  0.883440  \n",
              "1  2.0  30.0  0.0  2004.479526  0.681062  0.875539  \n",
              "2  NaN  23.0  0.5  1678.290000  0.736336  1.045710  \n",
              "3  NaN  28.0  0.5  1737.620000  0.713402  1.010000  \n",
              "4  NaN  22.0  0.5  1697.911134  0.701236  1.033623  "
            ],
            "text/html": [
              "\n",
              "  <div id=\"df-f9daf04f-2d77-4760-b812-6a3ac5c6f9c8\">\n",
              "    <div class=\"colab-df-container\">\n",
              "      <div>\n",
              "<style scoped>\n",
              "    .dataframe tbody tr th:only-of-type {\n",
              "        vertical-align: middle;\n",
              "    }\n",
              "\n",
              "    .dataframe tbody tr th {\n",
              "        vertical-align: top;\n",
              "    }\n",
              "\n",
              "    .dataframe thead th {\n",
              "        text-align: right;\n",
              "    }\n",
              "</style>\n",
              "<table border=\"1\" class=\"dataframe\">\n",
              "  <thead>\n",
              "    <tr style=\"text-align: right;\">\n",
              "      <th></th>\n",
              "      <th>Subject ID</th>\n",
              "      <th>MRI ID</th>\n",
              "      <th>Group</th>\n",
              "      <th>Visit</th>\n",
              "      <th>MR Delay</th>\n",
              "      <th>M/F</th>\n",
              "      <th>Hand</th>\n",
              "      <th>Age</th>\n",
              "      <th>EDUC</th>\n",
              "      <th>SES</th>\n",
              "      <th>MMSE</th>\n",
              "      <th>CDR</th>\n",
              "      <th>eTIV</th>\n",
              "      <th>nWBV</th>\n",
              "      <th>ASF</th>\n",
              "    </tr>\n",
              "  </thead>\n",
              "  <tbody>\n",
              "    <tr>\n",
              "      <th>0</th>\n",
              "      <td>OAS2_0001</td>\n",
              "      <td>OAS2_0001_MR1</td>\n",
              "      <td>Nondemented</td>\n",
              "      <td>1</td>\n",
              "      <td>0</td>\n",
              "      <td>M</td>\n",
              "      <td>R</td>\n",
              "      <td>87</td>\n",
              "      <td>14</td>\n",
              "      <td>2.0</td>\n",
              "      <td>27.0</td>\n",
              "      <td>0.0</td>\n",
              "      <td>1986.550000</td>\n",
              "      <td>0.696106</td>\n",
              "      <td>0.883440</td>\n",
              "    </tr>\n",
              "    <tr>\n",
              "      <th>1</th>\n",
              "      <td>OAS2_0001</td>\n",
              "      <td>OAS2_0001_MR2</td>\n",
              "      <td>Nondemented</td>\n",
              "      <td>2</td>\n",
              "      <td>457</td>\n",
              "      <td>M</td>\n",
              "      <td>R</td>\n",
              "      <td>88</td>\n",
              "      <td>14</td>\n",
              "      <td>2.0</td>\n",
              "      <td>30.0</td>\n",
              "      <td>0.0</td>\n",
              "      <td>2004.479526</td>\n",
              "      <td>0.681062</td>\n",
              "      <td>0.875539</td>\n",
              "    </tr>\n",
              "    <tr>\n",
              "      <th>2</th>\n",
              "      <td>OAS2_0002</td>\n",
              "      <td>OAS2_0002_MR1</td>\n",
              "      <td>Demented</td>\n",
              "      <td>1</td>\n",
              "      <td>0</td>\n",
              "      <td>M</td>\n",
              "      <td>R</td>\n",
              "      <td>75</td>\n",
              "      <td>12</td>\n",
              "      <td>NaN</td>\n",
              "      <td>23.0</td>\n",
              "      <td>0.5</td>\n",
              "      <td>1678.290000</td>\n",
              "      <td>0.736336</td>\n",
              "      <td>1.045710</td>\n",
              "    </tr>\n",
              "    <tr>\n",
              "      <th>3</th>\n",
              "      <td>OAS2_0002</td>\n",
              "      <td>OAS2_0002_MR2</td>\n",
              "      <td>Demented</td>\n",
              "      <td>2</td>\n",
              "      <td>560</td>\n",
              "      <td>M</td>\n",
              "      <td>R</td>\n",
              "      <td>76</td>\n",
              "      <td>12</td>\n",
              "      <td>NaN</td>\n",
              "      <td>28.0</td>\n",
              "      <td>0.5</td>\n",
              "      <td>1737.620000</td>\n",
              "      <td>0.713402</td>\n",
              "      <td>1.010000</td>\n",
              "    </tr>\n",
              "    <tr>\n",
              "      <th>4</th>\n",
              "      <td>OAS2_0002</td>\n",
              "      <td>OAS2_0002_MR3</td>\n",
              "      <td>Demented</td>\n",
              "      <td>3</td>\n",
              "      <td>1895</td>\n",
              "      <td>M</td>\n",
              "      <td>R</td>\n",
              "      <td>80</td>\n",
              "      <td>12</td>\n",
              "      <td>NaN</td>\n",
              "      <td>22.0</td>\n",
              "      <td>0.5</td>\n",
              "      <td>1697.911134</td>\n",
              "      <td>0.701236</td>\n",
              "      <td>1.033623</td>\n",
              "    </tr>\n",
              "  </tbody>\n",
              "</table>\n",
              "</div>\n",
              "      <button class=\"colab-df-convert\" onclick=\"convertToInteractive('df-f9daf04f-2d77-4760-b812-6a3ac5c6f9c8')\"\n",
              "              title=\"Convert this dataframe to an interactive table.\"\n",
              "              style=\"display:none;\">\n",
              "        \n",
              "  <svg xmlns=\"http://www.w3.org/2000/svg\" height=\"24px\"viewBox=\"0 0 24 24\"\n",
              "       width=\"24px\">\n",
              "    <path d=\"M0 0h24v24H0V0z\" fill=\"none\"/>\n",
              "    <path d=\"M18.56 5.44l.94 2.06.94-2.06 2.06-.94-2.06-.94-.94-2.06-.94 2.06-2.06.94zm-11 1L8.5 8.5l.94-2.06 2.06-.94-2.06-.94L8.5 2.5l-.94 2.06-2.06.94zm10 10l.94 2.06.94-2.06 2.06-.94-2.06-.94-.94-2.06-.94 2.06-2.06.94z\"/><path d=\"M17.41 7.96l-1.37-1.37c-.4-.4-.92-.59-1.43-.59-.52 0-1.04.2-1.43.59L10.3 9.45l-7.72 7.72c-.78.78-.78 2.05 0 2.83L4 21.41c.39.39.9.59 1.41.59.51 0 1.02-.2 1.41-.59l7.78-7.78 2.81-2.81c.8-.78.8-2.07 0-2.86zM5.41 20L4 18.59l7.72-7.72 1.47 1.35L5.41 20z\"/>\n",
              "  </svg>\n",
              "      </button>\n",
              "      \n",
              "  <style>\n",
              "    .colab-df-container {\n",
              "      display:flex;\n",
              "      flex-wrap:wrap;\n",
              "      gap: 12px;\n",
              "    }\n",
              "\n",
              "    .colab-df-convert {\n",
              "      background-color: #E8F0FE;\n",
              "      border: none;\n",
              "      border-radius: 50%;\n",
              "      cursor: pointer;\n",
              "      display: none;\n",
              "      fill: #1967D2;\n",
              "      height: 32px;\n",
              "      padding: 0 0 0 0;\n",
              "      width: 32px;\n",
              "    }\n",
              "\n",
              "    .colab-df-convert:hover {\n",
              "      background-color: #E2EBFA;\n",
              "      box-shadow: 0px 1px 2px rgba(60, 64, 67, 0.3), 0px 1px 3px 1px rgba(60, 64, 67, 0.15);\n",
              "      fill: #174EA6;\n",
              "    }\n",
              "\n",
              "    [theme=dark] .colab-df-convert {\n",
              "      background-color: #3B4455;\n",
              "      fill: #D2E3FC;\n",
              "    }\n",
              "\n",
              "    [theme=dark] .colab-df-convert:hover {\n",
              "      background-color: #434B5C;\n",
              "      box-shadow: 0px 1px 3px 1px rgba(0, 0, 0, 0.15);\n",
              "      filter: drop-shadow(0px 1px 2px rgba(0, 0, 0, 0.3));\n",
              "      fill: #FFFFFF;\n",
              "    }\n",
              "  </style>\n",
              "\n",
              "      <script>\n",
              "        const buttonEl =\n",
              "          document.querySelector('#df-f9daf04f-2d77-4760-b812-6a3ac5c6f9c8 button.colab-df-convert');\n",
              "        buttonEl.style.display =\n",
              "          google.colab.kernel.accessAllowed ? 'block' : 'none';\n",
              "\n",
              "        async function convertToInteractive(key) {\n",
              "          const element = document.querySelector('#df-f9daf04f-2d77-4760-b812-6a3ac5c6f9c8');\n",
              "          const dataTable =\n",
              "            await google.colab.kernel.invokeFunction('convertToInteractive',\n",
              "                                                     [key], {});\n",
              "          if (!dataTable) return;\n",
              "\n",
              "          const docLinkHtml = 'Like what you see? Visit the ' +\n",
              "            '<a target=\"_blank\" href=https://colab.research.google.com/notebooks/data_table.ipynb>data table notebook</a>'\n",
              "            + ' to learn more about interactive tables.';\n",
              "          element.innerHTML = '';\n",
              "          dataTable['output_type'] = 'display_data';\n",
              "          await google.colab.output.renderOutput(dataTable, element);\n",
              "          const docLink = document.createElement('div');\n",
              "          docLink.innerHTML = docLinkHtml;\n",
              "          element.appendChild(docLink);\n",
              "        }\n",
              "      </script>\n",
              "    </div>\n",
              "  </div>\n",
              "  "
            ]
          },
          "metadata": {},
          "execution_count": 4
        }
      ]
    },
    {
      "cell_type": "code",
      "source": [
        "data.shape"
      ],
      "metadata": {
        "colab": {
          "base_uri": "https://localhost:8080/"
        },
        "id": "kp7TzE1R3QR3",
        "outputId": "6e5039d6-9744-44bf-bea4-159072a5254f"
      },
      "execution_count": null,
      "outputs": [
        {
          "output_type": "execute_result",
          "data": {
            "text/plain": [
              "(373, 15)"
            ]
          },
          "metadata": {},
          "execution_count": 5
        }
      ]
    },
    {
      "cell_type": "markdown",
      "source": [
        "# **Pre-Processing**"
      ],
      "metadata": {
        "id": "glE-RLJi3f2b"
      }
    },
    {
      "cell_type": "markdown",
      "source": [
        "**Dropping Attributes**"
      ],
      "metadata": {
        "id": "Hx5mH5XhB-nG"
      }
    },
    {
      "cell_type": "code",
      "source": [
        "data = data.drop(columns = ['Subject ID','MRI ID','Hand'])"
      ],
      "metadata": {
        "id": "KQoU4cMIB98z"
      },
      "execution_count": null,
      "outputs": []
    },
    {
      "cell_type": "markdown",
      "source": [
        "**Duplicate values**"
      ],
      "metadata": {
        "id": "mvejLAK4-YMt"
      }
    },
    {
      "cell_type": "code",
      "source": [
        "data.duplicated().sum()"
      ],
      "metadata": {
        "colab": {
          "base_uri": "https://localhost:8080/"
        },
        "id": "tCm15P3X3i4f",
        "outputId": "0cf23dc0-9fd8-44a8-ef5c-32d28e2fdd18"
      },
      "execution_count": null,
      "outputs": [
        {
          "output_type": "execute_result",
          "data": {
            "text/plain": [
              "0"
            ]
          },
          "metadata": {},
          "execution_count": 7
        }
      ]
    },
    {
      "cell_type": "markdown",
      "source": [
        "**Null Values**"
      ],
      "metadata": {
        "id": "3WopSsvh-bgh"
      }
    },
    {
      "cell_type": "code",
      "source": [
        "data.isnull().sum()"
      ],
      "metadata": {
        "colab": {
          "base_uri": "https://localhost:8080/"
        },
        "id": "OgMhTXGo3fX1",
        "outputId": "161c20a5-a8d0-4b25-d3d4-8551ab897359"
      },
      "execution_count": null,
      "outputs": [
        {
          "output_type": "execute_result",
          "data": {
            "text/plain": [
              "Group        0\n",
              "Visit        0\n",
              "MR Delay     0\n",
              "M/F          0\n",
              "Age          0\n",
              "EDUC         0\n",
              "SES         19\n",
              "MMSE         2\n",
              "CDR          0\n",
              "eTIV         0\n",
              "nWBV         0\n",
              "ASF          0\n",
              "dtype: int64"
            ]
          },
          "metadata": {},
          "execution_count": 8
        }
      ]
    },
    {
      "cell_type": "code",
      "source": [
        "data['SES'] = data['SES'].fillna(data['SES'].mode()[0])\n",
        "data['MMSE'] = data['MMSE'].fillna(data['MMSE'].mode()[0])"
      ],
      "metadata": {
        "id": "ovGFiLIH-eT1"
      },
      "execution_count": null,
      "outputs": []
    },
    {
      "cell_type": "code",
      "source": [
        "data.isnull().sum()"
      ],
      "metadata": {
        "colab": {
          "base_uri": "https://localhost:8080/"
        },
        "id": "TpOEwOh9_nTf",
        "outputId": "fdc66c49-2d35-4d29-f6e2-9f978bbb9bd3"
      },
      "execution_count": null,
      "outputs": [
        {
          "output_type": "execute_result",
          "data": {
            "text/plain": [
              "Group       0\n",
              "Visit       0\n",
              "MR Delay    0\n",
              "M/F         0\n",
              "Age         0\n",
              "EDUC        0\n",
              "SES         0\n",
              "MMSE        0\n",
              "CDR         0\n",
              "eTIV        0\n",
              "nWBV        0\n",
              "ASF         0\n",
              "dtype: int64"
            ]
          },
          "metadata": {},
          "execution_count": 10
        }
      ]
    },
    {
      "cell_type": "code",
      "source": [
        "data.head()"
      ],
      "metadata": {
        "colab": {
          "base_uri": "https://localhost:8080/",
          "height": 206
        },
        "id": "yZOCBKdi_tFP",
        "outputId": "66effb55-fd90-4a46-c270-71888621a70e"
      },
      "execution_count": null,
      "outputs": [
        {
          "output_type": "execute_result",
          "data": {
            "text/plain": [
              "         Group  Visit  MR Delay M/F  Age  EDUC  SES  MMSE  CDR         eTIV  \\\n",
              "0  Nondemented      1         0   M   87    14  2.0  27.0  0.0  1986.550000   \n",
              "1  Nondemented      2       457   M   88    14  2.0  30.0  0.0  2004.479526   \n",
              "2     Demented      1         0   M   75    12  2.0  23.0  0.5  1678.290000   \n",
              "3     Demented      2       560   M   76    12  2.0  28.0  0.5  1737.620000   \n",
              "4     Demented      3      1895   M   80    12  2.0  22.0  0.5  1697.911134   \n",
              "\n",
              "       nWBV       ASF  \n",
              "0  0.696106  0.883440  \n",
              "1  0.681062  0.875539  \n",
              "2  0.736336  1.045710  \n",
              "3  0.713402  1.010000  \n",
              "4  0.701236  1.033623  "
            ],
            "text/html": [
              "\n",
              "  <div id=\"df-90f6cfe2-ceff-443b-a6b8-842abb5318e7\">\n",
              "    <div class=\"colab-df-container\">\n",
              "      <div>\n",
              "<style scoped>\n",
              "    .dataframe tbody tr th:only-of-type {\n",
              "        vertical-align: middle;\n",
              "    }\n",
              "\n",
              "    .dataframe tbody tr th {\n",
              "        vertical-align: top;\n",
              "    }\n",
              "\n",
              "    .dataframe thead th {\n",
              "        text-align: right;\n",
              "    }\n",
              "</style>\n",
              "<table border=\"1\" class=\"dataframe\">\n",
              "  <thead>\n",
              "    <tr style=\"text-align: right;\">\n",
              "      <th></th>\n",
              "      <th>Group</th>\n",
              "      <th>Visit</th>\n",
              "      <th>MR Delay</th>\n",
              "      <th>M/F</th>\n",
              "      <th>Age</th>\n",
              "      <th>EDUC</th>\n",
              "      <th>SES</th>\n",
              "      <th>MMSE</th>\n",
              "      <th>CDR</th>\n",
              "      <th>eTIV</th>\n",
              "      <th>nWBV</th>\n",
              "      <th>ASF</th>\n",
              "    </tr>\n",
              "  </thead>\n",
              "  <tbody>\n",
              "    <tr>\n",
              "      <th>0</th>\n",
              "      <td>Nondemented</td>\n",
              "      <td>1</td>\n",
              "      <td>0</td>\n",
              "      <td>M</td>\n",
              "      <td>87</td>\n",
              "      <td>14</td>\n",
              "      <td>2.0</td>\n",
              "      <td>27.0</td>\n",
              "      <td>0.0</td>\n",
              "      <td>1986.550000</td>\n",
              "      <td>0.696106</td>\n",
              "      <td>0.883440</td>\n",
              "    </tr>\n",
              "    <tr>\n",
              "      <th>1</th>\n",
              "      <td>Nondemented</td>\n",
              "      <td>2</td>\n",
              "      <td>457</td>\n",
              "      <td>M</td>\n",
              "      <td>88</td>\n",
              "      <td>14</td>\n",
              "      <td>2.0</td>\n",
              "      <td>30.0</td>\n",
              "      <td>0.0</td>\n",
              "      <td>2004.479526</td>\n",
              "      <td>0.681062</td>\n",
              "      <td>0.875539</td>\n",
              "    </tr>\n",
              "    <tr>\n",
              "      <th>2</th>\n",
              "      <td>Demented</td>\n",
              "      <td>1</td>\n",
              "      <td>0</td>\n",
              "      <td>M</td>\n",
              "      <td>75</td>\n",
              "      <td>12</td>\n",
              "      <td>2.0</td>\n",
              "      <td>23.0</td>\n",
              "      <td>0.5</td>\n",
              "      <td>1678.290000</td>\n",
              "      <td>0.736336</td>\n",
              "      <td>1.045710</td>\n",
              "    </tr>\n",
              "    <tr>\n",
              "      <th>3</th>\n",
              "      <td>Demented</td>\n",
              "      <td>2</td>\n",
              "      <td>560</td>\n",
              "      <td>M</td>\n",
              "      <td>76</td>\n",
              "      <td>12</td>\n",
              "      <td>2.0</td>\n",
              "      <td>28.0</td>\n",
              "      <td>0.5</td>\n",
              "      <td>1737.620000</td>\n",
              "      <td>0.713402</td>\n",
              "      <td>1.010000</td>\n",
              "    </tr>\n",
              "    <tr>\n",
              "      <th>4</th>\n",
              "      <td>Demented</td>\n",
              "      <td>3</td>\n",
              "      <td>1895</td>\n",
              "      <td>M</td>\n",
              "      <td>80</td>\n",
              "      <td>12</td>\n",
              "      <td>2.0</td>\n",
              "      <td>22.0</td>\n",
              "      <td>0.5</td>\n",
              "      <td>1697.911134</td>\n",
              "      <td>0.701236</td>\n",
              "      <td>1.033623</td>\n",
              "    </tr>\n",
              "  </tbody>\n",
              "</table>\n",
              "</div>\n",
              "      <button class=\"colab-df-convert\" onclick=\"convertToInteractive('df-90f6cfe2-ceff-443b-a6b8-842abb5318e7')\"\n",
              "              title=\"Convert this dataframe to an interactive table.\"\n",
              "              style=\"display:none;\">\n",
              "        \n",
              "  <svg xmlns=\"http://www.w3.org/2000/svg\" height=\"24px\"viewBox=\"0 0 24 24\"\n",
              "       width=\"24px\">\n",
              "    <path d=\"M0 0h24v24H0V0z\" fill=\"none\"/>\n",
              "    <path d=\"M18.56 5.44l.94 2.06.94-2.06 2.06-.94-2.06-.94-.94-2.06-.94 2.06-2.06.94zm-11 1L8.5 8.5l.94-2.06 2.06-.94-2.06-.94L8.5 2.5l-.94 2.06-2.06.94zm10 10l.94 2.06.94-2.06 2.06-.94-2.06-.94-.94-2.06-.94 2.06-2.06.94z\"/><path d=\"M17.41 7.96l-1.37-1.37c-.4-.4-.92-.59-1.43-.59-.52 0-1.04.2-1.43.59L10.3 9.45l-7.72 7.72c-.78.78-.78 2.05 0 2.83L4 21.41c.39.39.9.59 1.41.59.51 0 1.02-.2 1.41-.59l7.78-7.78 2.81-2.81c.8-.78.8-2.07 0-2.86zM5.41 20L4 18.59l7.72-7.72 1.47 1.35L5.41 20z\"/>\n",
              "  </svg>\n",
              "      </button>\n",
              "      \n",
              "  <style>\n",
              "    .colab-df-container {\n",
              "      display:flex;\n",
              "      flex-wrap:wrap;\n",
              "      gap: 12px;\n",
              "    }\n",
              "\n",
              "    .colab-df-convert {\n",
              "      background-color: #E8F0FE;\n",
              "      border: none;\n",
              "      border-radius: 50%;\n",
              "      cursor: pointer;\n",
              "      display: none;\n",
              "      fill: #1967D2;\n",
              "      height: 32px;\n",
              "      padding: 0 0 0 0;\n",
              "      width: 32px;\n",
              "    }\n",
              "\n",
              "    .colab-df-convert:hover {\n",
              "      background-color: #E2EBFA;\n",
              "      box-shadow: 0px 1px 2px rgba(60, 64, 67, 0.3), 0px 1px 3px 1px rgba(60, 64, 67, 0.15);\n",
              "      fill: #174EA6;\n",
              "    }\n",
              "\n",
              "    [theme=dark] .colab-df-convert {\n",
              "      background-color: #3B4455;\n",
              "      fill: #D2E3FC;\n",
              "    }\n",
              "\n",
              "    [theme=dark] .colab-df-convert:hover {\n",
              "      background-color: #434B5C;\n",
              "      box-shadow: 0px 1px 3px 1px rgba(0, 0, 0, 0.15);\n",
              "      filter: drop-shadow(0px 1px 2px rgba(0, 0, 0, 0.3));\n",
              "      fill: #FFFFFF;\n",
              "    }\n",
              "  </style>\n",
              "\n",
              "      <script>\n",
              "        const buttonEl =\n",
              "          document.querySelector('#df-90f6cfe2-ceff-443b-a6b8-842abb5318e7 button.colab-df-convert');\n",
              "        buttonEl.style.display =\n",
              "          google.colab.kernel.accessAllowed ? 'block' : 'none';\n",
              "\n",
              "        async function convertToInteractive(key) {\n",
              "          const element = document.querySelector('#df-90f6cfe2-ceff-443b-a6b8-842abb5318e7');\n",
              "          const dataTable =\n",
              "            await google.colab.kernel.invokeFunction('convertToInteractive',\n",
              "                                                     [key], {});\n",
              "          if (!dataTable) return;\n",
              "\n",
              "          const docLinkHtml = 'Like what you see? Visit the ' +\n",
              "            '<a target=\"_blank\" href=https://colab.research.google.com/notebooks/data_table.ipynb>data table notebook</a>'\n",
              "            + ' to learn more about interactive tables.';\n",
              "          element.innerHTML = '';\n",
              "          dataTable['output_type'] = 'display_data';\n",
              "          await google.colab.output.renderOutput(dataTable, element);\n",
              "          const docLink = document.createElement('div');\n",
              "          docLink.innerHTML = docLinkHtml;\n",
              "          element.appendChild(docLink);\n",
              "        }\n",
              "      </script>\n",
              "    </div>\n",
              "  </div>\n",
              "  "
            ]
          },
          "metadata": {},
          "execution_count": 11
        }
      ]
    },
    {
      "cell_type": "markdown",
      "source": [
        " **Encoding**"
      ],
      "metadata": {
        "id": "weUKI-bHAAXc"
      }
    },
    {
      "cell_type": "code",
      "source": [
        "data.dtypes"
      ],
      "metadata": {
        "colab": {
          "base_uri": "https://localhost:8080/"
        },
        "id": "tCgQSODjADQY",
        "outputId": "f30ac20a-36d3-411a-bb7f-b6332bed8f36"
      },
      "execution_count": null,
      "outputs": [
        {
          "output_type": "execute_result",
          "data": {
            "text/plain": [
              "Group        object\n",
              "Visit         int64\n",
              "MR Delay      int64\n",
              "M/F          object\n",
              "Age           int64\n",
              "EDUC          int64\n",
              "SES         float64\n",
              "MMSE        float64\n",
              "CDR         float64\n",
              "eTIV        float64\n",
              "nWBV        float64\n",
              "ASF         float64\n",
              "dtype: object"
            ]
          },
          "metadata": {},
          "execution_count": 12
        }
      ]
    },
    {
      "cell_type": "markdown",
      "source": [
        "Label Encoding (Group)"
      ],
      "metadata": {
        "id": "XCjRdpczCwFH"
      }
    },
    {
      "cell_type": "code",
      "source": [
        "labelencoder = LabelEncoder()\n",
        "data['Group_cat'] = labelencoder.fit_transform(data['Group'])"
      ],
      "metadata": {
        "id": "xCA1ZORKCvGi"
      },
      "execution_count": null,
      "outputs": []
    },
    {
      "cell_type": "code",
      "source": [
        "data.head()"
      ],
      "metadata": {
        "colab": {
          "base_uri": "https://localhost:8080/",
          "height": 206
        },
        "id": "48oUpN6hDGrN",
        "outputId": "42ba3ba1-e9ef-41dd-ef3f-a304a86a544d"
      },
      "execution_count": null,
      "outputs": [
        {
          "output_type": "execute_result",
          "data": {
            "text/plain": [
              "         Group  Visit  MR Delay M/F  Age  EDUC  SES  MMSE  CDR         eTIV  \\\n",
              "0  Nondemented      1         0   M   87    14  2.0  27.0  0.0  1986.550000   \n",
              "1  Nondemented      2       457   M   88    14  2.0  30.0  0.0  2004.479526   \n",
              "2     Demented      1         0   M   75    12  2.0  23.0  0.5  1678.290000   \n",
              "3     Demented      2       560   M   76    12  2.0  28.0  0.5  1737.620000   \n",
              "4     Demented      3      1895   M   80    12  2.0  22.0  0.5  1697.911134   \n",
              "\n",
              "       nWBV       ASF  Group_cat  \n",
              "0  0.696106  0.883440          2  \n",
              "1  0.681062  0.875539          2  \n",
              "2  0.736336  1.045710          1  \n",
              "3  0.713402  1.010000          1  \n",
              "4  0.701236  1.033623          1  "
            ],
            "text/html": [
              "\n",
              "  <div id=\"df-25667ca3-81ef-48a9-8028-e7cd5a387085\">\n",
              "    <div class=\"colab-df-container\">\n",
              "      <div>\n",
              "<style scoped>\n",
              "    .dataframe tbody tr th:only-of-type {\n",
              "        vertical-align: middle;\n",
              "    }\n",
              "\n",
              "    .dataframe tbody tr th {\n",
              "        vertical-align: top;\n",
              "    }\n",
              "\n",
              "    .dataframe thead th {\n",
              "        text-align: right;\n",
              "    }\n",
              "</style>\n",
              "<table border=\"1\" class=\"dataframe\">\n",
              "  <thead>\n",
              "    <tr style=\"text-align: right;\">\n",
              "      <th></th>\n",
              "      <th>Group</th>\n",
              "      <th>Visit</th>\n",
              "      <th>MR Delay</th>\n",
              "      <th>M/F</th>\n",
              "      <th>Age</th>\n",
              "      <th>EDUC</th>\n",
              "      <th>SES</th>\n",
              "      <th>MMSE</th>\n",
              "      <th>CDR</th>\n",
              "      <th>eTIV</th>\n",
              "      <th>nWBV</th>\n",
              "      <th>ASF</th>\n",
              "      <th>Group_cat</th>\n",
              "    </tr>\n",
              "  </thead>\n",
              "  <tbody>\n",
              "    <tr>\n",
              "      <th>0</th>\n",
              "      <td>Nondemented</td>\n",
              "      <td>1</td>\n",
              "      <td>0</td>\n",
              "      <td>M</td>\n",
              "      <td>87</td>\n",
              "      <td>14</td>\n",
              "      <td>2.0</td>\n",
              "      <td>27.0</td>\n",
              "      <td>0.0</td>\n",
              "      <td>1986.550000</td>\n",
              "      <td>0.696106</td>\n",
              "      <td>0.883440</td>\n",
              "      <td>2</td>\n",
              "    </tr>\n",
              "    <tr>\n",
              "      <th>1</th>\n",
              "      <td>Nondemented</td>\n",
              "      <td>2</td>\n",
              "      <td>457</td>\n",
              "      <td>M</td>\n",
              "      <td>88</td>\n",
              "      <td>14</td>\n",
              "      <td>2.0</td>\n",
              "      <td>30.0</td>\n",
              "      <td>0.0</td>\n",
              "      <td>2004.479526</td>\n",
              "      <td>0.681062</td>\n",
              "      <td>0.875539</td>\n",
              "      <td>2</td>\n",
              "    </tr>\n",
              "    <tr>\n",
              "      <th>2</th>\n",
              "      <td>Demented</td>\n",
              "      <td>1</td>\n",
              "      <td>0</td>\n",
              "      <td>M</td>\n",
              "      <td>75</td>\n",
              "      <td>12</td>\n",
              "      <td>2.0</td>\n",
              "      <td>23.0</td>\n",
              "      <td>0.5</td>\n",
              "      <td>1678.290000</td>\n",
              "      <td>0.736336</td>\n",
              "      <td>1.045710</td>\n",
              "      <td>1</td>\n",
              "    </tr>\n",
              "    <tr>\n",
              "      <th>3</th>\n",
              "      <td>Demented</td>\n",
              "      <td>2</td>\n",
              "      <td>560</td>\n",
              "      <td>M</td>\n",
              "      <td>76</td>\n",
              "      <td>12</td>\n",
              "      <td>2.0</td>\n",
              "      <td>28.0</td>\n",
              "      <td>0.5</td>\n",
              "      <td>1737.620000</td>\n",
              "      <td>0.713402</td>\n",
              "      <td>1.010000</td>\n",
              "      <td>1</td>\n",
              "    </tr>\n",
              "    <tr>\n",
              "      <th>4</th>\n",
              "      <td>Demented</td>\n",
              "      <td>3</td>\n",
              "      <td>1895</td>\n",
              "      <td>M</td>\n",
              "      <td>80</td>\n",
              "      <td>12</td>\n",
              "      <td>2.0</td>\n",
              "      <td>22.0</td>\n",
              "      <td>0.5</td>\n",
              "      <td>1697.911134</td>\n",
              "      <td>0.701236</td>\n",
              "      <td>1.033623</td>\n",
              "      <td>1</td>\n",
              "    </tr>\n",
              "  </tbody>\n",
              "</table>\n",
              "</div>\n",
              "      <button class=\"colab-df-convert\" onclick=\"convertToInteractive('df-25667ca3-81ef-48a9-8028-e7cd5a387085')\"\n",
              "              title=\"Convert this dataframe to an interactive table.\"\n",
              "              style=\"display:none;\">\n",
              "        \n",
              "  <svg xmlns=\"http://www.w3.org/2000/svg\" height=\"24px\"viewBox=\"0 0 24 24\"\n",
              "       width=\"24px\">\n",
              "    <path d=\"M0 0h24v24H0V0z\" fill=\"none\"/>\n",
              "    <path d=\"M18.56 5.44l.94 2.06.94-2.06 2.06-.94-2.06-.94-.94-2.06-.94 2.06-2.06.94zm-11 1L8.5 8.5l.94-2.06 2.06-.94-2.06-.94L8.5 2.5l-.94 2.06-2.06.94zm10 10l.94 2.06.94-2.06 2.06-.94-2.06-.94-.94-2.06-.94 2.06-2.06.94z\"/><path d=\"M17.41 7.96l-1.37-1.37c-.4-.4-.92-.59-1.43-.59-.52 0-1.04.2-1.43.59L10.3 9.45l-7.72 7.72c-.78.78-.78 2.05 0 2.83L4 21.41c.39.39.9.59 1.41.59.51 0 1.02-.2 1.41-.59l7.78-7.78 2.81-2.81c.8-.78.8-2.07 0-2.86zM5.41 20L4 18.59l7.72-7.72 1.47 1.35L5.41 20z\"/>\n",
              "  </svg>\n",
              "      </button>\n",
              "      \n",
              "  <style>\n",
              "    .colab-df-container {\n",
              "      display:flex;\n",
              "      flex-wrap:wrap;\n",
              "      gap: 12px;\n",
              "    }\n",
              "\n",
              "    .colab-df-convert {\n",
              "      background-color: #E8F0FE;\n",
              "      border: none;\n",
              "      border-radius: 50%;\n",
              "      cursor: pointer;\n",
              "      display: none;\n",
              "      fill: #1967D2;\n",
              "      height: 32px;\n",
              "      padding: 0 0 0 0;\n",
              "      width: 32px;\n",
              "    }\n",
              "\n",
              "    .colab-df-convert:hover {\n",
              "      background-color: #E2EBFA;\n",
              "      box-shadow: 0px 1px 2px rgba(60, 64, 67, 0.3), 0px 1px 3px 1px rgba(60, 64, 67, 0.15);\n",
              "      fill: #174EA6;\n",
              "    }\n",
              "\n",
              "    [theme=dark] .colab-df-convert {\n",
              "      background-color: #3B4455;\n",
              "      fill: #D2E3FC;\n",
              "    }\n",
              "\n",
              "    [theme=dark] .colab-df-convert:hover {\n",
              "      background-color: #434B5C;\n",
              "      box-shadow: 0px 1px 3px 1px rgba(0, 0, 0, 0.15);\n",
              "      filter: drop-shadow(0px 1px 2px rgba(0, 0, 0, 0.3));\n",
              "      fill: #FFFFFF;\n",
              "    }\n",
              "  </style>\n",
              "\n",
              "      <script>\n",
              "        const buttonEl =\n",
              "          document.querySelector('#df-25667ca3-81ef-48a9-8028-e7cd5a387085 button.colab-df-convert');\n",
              "        buttonEl.style.display =\n",
              "          google.colab.kernel.accessAllowed ? 'block' : 'none';\n",
              "\n",
              "        async function convertToInteractive(key) {\n",
              "          const element = document.querySelector('#df-25667ca3-81ef-48a9-8028-e7cd5a387085');\n",
              "          const dataTable =\n",
              "            await google.colab.kernel.invokeFunction('convertToInteractive',\n",
              "                                                     [key], {});\n",
              "          if (!dataTable) return;\n",
              "\n",
              "          const docLinkHtml = 'Like what you see? Visit the ' +\n",
              "            '<a target=\"_blank\" href=https://colab.research.google.com/notebooks/data_table.ipynb>data table notebook</a>'\n",
              "            + ' to learn more about interactive tables.';\n",
              "          element.innerHTML = '';\n",
              "          dataTable['output_type'] = 'display_data';\n",
              "          await google.colab.output.renderOutput(dataTable, element);\n",
              "          const docLink = document.createElement('div');\n",
              "          docLink.innerHTML = docLinkHtml;\n",
              "          element.appendChild(docLink);\n",
              "        }\n",
              "      </script>\n",
              "    </div>\n",
              "  </div>\n",
              "  "
            ]
          },
          "metadata": {},
          "execution_count": 14
        }
      ]
    },
    {
      "cell_type": "markdown",
      "source": [
        "**Target --> Group_cat:**\n",
        "\n",
         "*   Conveted = 0\n",
        "*   Demented = 1\n",
        "*   Non-Demented = 2\n",
        "\n",
        "\n"
      ],
      "metadata": {
        "id": "EO-NqKUlDOBz"
      }
    },
    {
      "cell_type": "code",
      "source": [
        "data = data.drop(columns = ['Group'])\n"
      ],
      "metadata": {
        "id": "8dA-1cbsDwLd"
      },
      "execution_count": null,
      "outputs": []
    },
    {
      "cell_type": "code",
      "source": [
        "data['Group_cat'].describe()"
      ],
      "metadata": {
        "colab": {
          "base_uri": "https://localhost:8080/"
        },
        "id": "XeTQs0wFetoQ",
        "outputId": "3ad43a3f-0883-42b4-c66a-00d901d78e5e"
      },
      "execution_count": null,
      "outputs": [
        {
          "output_type": "execute_result",
          "data": {
            "text/plain": [
              "count    373.000000\n",
              "mean       1.410188\n",
              "std        0.664461\n",
              "min        0.000000\n",
              "25%        1.000000\n",
              "50%        2.000000\n",
              "75%        2.000000\n",
              "max        2.000000\n",
              "Name: Group_cat, dtype: float64"
            ]
          },
          "metadata": {},
          "execution_count": 16
        }
      ]
    },
    {
      "cell_type": "code",
      "source": [
        "data.head()"
      ],
      "metadata": {
        "colab": {
          "base_uri": "https://localhost:8080/",
          "height": 206
        },
        "id": "HlEtlHOMDjy9",
        "outputId": "dce8ed04-3423-4b15-8161-fb640f43d781"
      },
      "execution_count": null,
      "outputs": [
        {
          "output_type": "execute_result",
          "data": {
            "text/plain": [
              "   Visit  MR Delay M/F  Age  EDUC  SES  MMSE  CDR         eTIV      nWBV  \\\n",
              "0      1         0   M   87    14  2.0  27.0  0.0  1986.550000  0.696106   \n",
              "1      2       457   M   88    14  2.0  30.0  0.0  2004.479526  0.681062   \n",
              "2      1         0   M   75    12  2.0  23.0  0.5  1678.290000  0.736336   \n",
              "3      2       560   M   76    12  2.0  28.0  0.5  1737.620000  0.713402   \n",
              "4      3      1895   M   80    12  2.0  22.0  0.5  1697.911134  0.701236   \n",
              "\n",
              "        ASF  Group_cat  \n",
              "0  0.883440          2  \n",
              "1  0.875539          2  \n",
              "2  1.045710          1  \n",
              "3  1.010000          1  \n",
              "4  1.033623          1  "
            ],
            "text/html": [
              "\n",
              "  <div id=\"df-a56b8cab-d28c-40b1-bfd9-eae83697c683\">\n",
              "    <div class=\"colab-df-container\">\n",
              "      <div>\n",
              "<style scoped>\n",
              "    .dataframe tbody tr th:only-of-type {\n",
              "        vertical-align: middle;\n",
              "    }\n",
              "\n",
              "    .dataframe tbody tr th {\n",
              "        vertical-align: top;\n",
              "    }\n",
              "\n",
              "    .dataframe thead th {\n",
              "        text-align: right;\n",
              "    }\n",
              "</style>\n",
              "<table border=\"1\" class=\"dataframe\">\n",
              "  <thead>\n",
              "    <tr style=\"text-align: right;\">\n",
              "      <th></th>\n",
              "      <th>Visit</th>\n",
              "      <th>MR Delay</th>\n",
              "      <th>M/F</th>\n",
              "      <th>Age</th>\n",
              "      <th>EDUC</th>\n",
              "      <th>SES</th>\n",
              "      <th>MMSE</th>\n",
              "      <th>CDR</th>\n",
              "      <th>eTIV</th>\n",
              "      <th>nWBV</th>\n",
              "      <th>ASF</th>\n",
              "      <th>Group_cat</th>\n",
              "    </tr>\n",
              "  </thead>\n",
              "  <tbody>\n",
              "    <tr>\n",
              "      <th>0</th>\n",
              "      <td>1</td>\n",
              "      <td>0</td>\n",
              "      <td>M</td>\n",
              "      <td>87</td>\n",
              "      <td>14</td>\n",
              "      <td>2.0</td>\n",
              "      <td>27.0</td>\n",
              "      <td>0.0</td>\n",
              "      <td>1986.550000</td>\n",
              "      <td>0.696106</td>\n",
              "      <td>0.883440</td>\n",
              "      <td>2</td>\n",
              "    </tr>\n",
              "    <tr>\n",
              "      <th>1</th>\n",
              "      <td>2</td>\n",
              "      <td>457</td>\n",
              "      <td>M</td>\n",
              "      <td>88</td>\n",
              "      <td>14</td>\n",
              "      <td>2.0</td>\n",
              "      <td>30.0</td>\n",
              "      <td>0.0</td>\n",
              "      <td>2004.479526</td>\n",
              "      <td>0.681062</td>\n",
              "      <td>0.875539</td>\n",
              "      <td>2</td>\n",
              "    </tr>\n",
              "    <tr>\n",
              "      <th>2</th>\n",
              "      <td>1</td>\n",
              "      <td>0</td>\n",
              "      <td>M</td>\n",
              "      <td>75</td>\n",
              "      <td>12</td>\n",
              "      <td>2.0</td>\n",
              "      <td>23.0</td>\n",
              "      <td>0.5</td>\n",
              "      <td>1678.290000</td>\n",
              "      <td>0.736336</td>\n",
              "      <td>1.045710</td>\n",
              "      <td>1</td>\n",
              "    </tr>\n",
              "    <tr>\n",
              "      <th>3</th>\n",
              "      <td>2</td>\n",
              "      <td>560</td>\n",
              "      <td>M</td>\n",
              "      <td>76</td>\n",
              "      <td>12</td>\n",
              "      <td>2.0</td>\n",
              "      <td>28.0</td>\n",
              "      <td>0.5</td>\n",
              "      <td>1737.620000</td>\n",
              "      <td>0.713402</td>\n",
              "      <td>1.010000</td>\n",
              "      <td>1</td>\n",
              "    </tr>\n",
              "    <tr>\n",
              "      <th>4</th>\n",
              "      <td>3</td>\n",
              "      <td>1895</td>\n",
              "      <td>M</td>\n",
              "      <td>80</td>\n",
              "      <td>12</td>\n",
              "      <td>2.0</td>\n",
              "      <td>22.0</td>\n",
              "      <td>0.5</td>\n",
              "      <td>1697.911134</td>\n",
              "      <td>0.701236</td>\n",
              "      <td>1.033623</td>\n",
              "      <td>1</td>\n",
              "    </tr>\n",
              "  </tbody>\n",
              "</table>\n",
              "</div>\n",
              "      <button class=\"colab-df-convert\" onclick=\"convertToInteractive('df-a56b8cab-d28c-40b1-bfd9-eae83697c683')\"\n",
              "              title=\"Convert this dataframe to an interactive table.\"\n",
              "              style=\"display:none;\">\n",
              "        \n",
              "  <svg xmlns=\"http://www.w3.org/2000/svg\" height=\"24px\"viewBox=\"0 0 24 24\"\n",
              "       width=\"24px\">\n",
              "    <path d=\"M0 0h24v24H0V0z\" fill=\"none\"/>\n",
              "    <path d=\"M18.56 5.44l.94 2.06.94-2.06 2.06-.94-2.06-.94-.94-2.06-.94 2.06-2.06.94zm-11 1L8.5 8.5l.94-2.06 2.06-.94-2.06-.94L8.5 2.5l-.94 2.06-2.06.94zm10 10l.94 2.06.94-2.06 2.06-.94-2.06-.94-.94-2.06-.94 2.06-2.06.94z\"/><path d=\"M17.41 7.96l-1.37-1.37c-.4-.4-.92-.59-1.43-.59-.52 0-1.04.2-1.43.59L10.3 9.45l-7.72 7.72c-.78.78-.78 2.05 0 2.83L4 21.41c.39.39.9.59 1.41.59.51 0 1.02-.2 1.41-.59l7.78-7.78 2.81-2.81c.8-.78.8-2.07 0-2.86zM5.41 20L4 18.59l7.72-7.72 1.47 1.35L5.41 20z\"/>\n",
              "  </svg>\n",
              "      </button>\n",
              "      \n",
              "  <style>\n",
              "    .colab-df-container {\n",
              "      display:flex;\n",
              "      flex-wrap:wrap;\n",
              "      gap: 12px;\n",
              "    }\n",
              "\n",
              "    .colab-df-convert {\n",
              "      background-color: #E8F0FE;\n",
              "      border: none;\n",
              "      border-radius: 50%;\n",
              "      cursor: pointer;\n",
              "      display: none;\n",
              "      fill: #1967D2;\n",
              "      height: 32px;\n",
              "      padding: 0 0 0 0;\n",
              "      width: 32px;\n",
              "    }\n",
              "\n",
              "    .colab-df-convert:hover {\n",
              "      background-color: #E2EBFA;\n",
              "      box-shadow: 0px 1px 2px rgba(60, 64, 67, 0.3), 0px 1px 3px 1px rgba(60, 64, 67, 0.15);\n",
              "      fill: #174EA6;\n",
              "    }\n",
              "\n",
              "    [theme=dark] .colab-df-convert {\n",
              "      background-color: #3B4455;\n",
              "      fill: #D2E3FC;\n",
              "    }\n",
              "\n",
              "    [theme=dark] .colab-df-convert:hover {\n",
              "      background-color: #434B5C;\n",
              "      box-shadow: 0px 1px 3px 1px rgba(0, 0, 0, 0.15);\n",
              "      filter: drop-shadow(0px 1px 2px rgba(0, 0, 0, 0.3));\n",
              "      fill: #FFFFFF;\n",
              "    }\n",
              "  </style>\n",
              "\n",
              "      <script>\n",
              "        const buttonEl =\n",
              "          document.querySelector('#df-a56b8cab-d28c-40b1-bfd9-eae83697c683 button.colab-df-convert');\n",
              "        buttonEl.style.display =\n",
              "          google.colab.kernel.accessAllowed ? 'block' : 'none';\n",
              "\n",
              "        async function convertToInteractive(key) {\n",
              "          const element = document.querySelector('#df-a56b8cab-d28c-40b1-bfd9-eae83697c683');\n",
              "          const dataTable =\n",
              "            await google.colab.kernel.invokeFunction('convertToInteractive',\n",
              "                                                     [key], {});\n",
              "          if (!dataTable) return;\n",
              "\n",
              "          const docLinkHtml = 'Like what you see? Visit the ' +\n",
              "            '<a target=\"_blank\" href=https://colab.research.google.com/notebooks/data_table.ipynb>data table notebook</a>'\n",
              "            + ' to learn more about interactive tables.';\n",
              "          element.innerHTML = '';\n",
              "          dataTable['output_type'] = 'display_data';\n",
              "          await google.colab.output.renderOutput(dataTable, element);\n",
              "          const docLink = document.createElement('div');\n",
              "          docLink.innerHTML = docLinkHtml;\n",
              "          element.appendChild(docLink);\n",
              "        }\n",
              "      </script>\n",
              "    </div>\n",
              "  </div>\n",
              "  "
            ]
          },
          "metadata": {},
          "execution_count": 17
        }
      ]
    },
    {
      "cell_type": "markdown",
      "source": [
        "One Hot Encoding (M/F)"
      ],
      "metadata": {
        "id": "pP-BBHLxD-KX"
      }
    },
    {
      "cell_type": "code",
      "source": [
        "data = pd.get_dummies(data=data, drop_first=True, columns=['M/F'])"
      ],
      "metadata": {
        "id": "h-5-y8PBEHjh"
      },
      "execution_count": null,
      "outputs": []
    },
    {
      "cell_type": "code",
      "source": [
        "data.head()"
      ],
      "metadata": {
        "colab": {
          "base_uri": "https://localhost:8080/",
          "height": 206
        },
        "id": "9Rvy7IL0Gu7J",
        "outputId": "31da62d4-d89f-4713-cafb-2d489b79ab3f"
      },
      "execution_count": null,
      "outputs": [
        {
          "output_type": "execute_result",
          "data": {
            "text/plain": [
              "   Visit  MR Delay  Age  EDUC  SES  MMSE  CDR         eTIV      nWBV  \\\n",
              "0      1         0   87    14  2.0  27.0  0.0  1986.550000  0.696106   \n",
              "1      2       457   88    14  2.0  30.0  0.0  2004.479526  0.681062   \n",
              "2      1         0   75    12  2.0  23.0  0.5  1678.290000  0.736336   \n",
              "3      2       560   76    12  2.0  28.0  0.5  1737.620000  0.713402   \n",
              "4      3      1895   80    12  2.0  22.0  0.5  1697.911134  0.701236   \n",
              "\n",
              "        ASF  Group_cat  M/F_M  \n",
              "0  0.883440          2      1  \n",
              "1  0.875539          2      1  \n",
              "2  1.045710          1      1  \n",
              "3  1.010000          1      1  \n",
              "4  1.033623          1      1  "
            ],
            "text/html": [
              "\n",
              "  <div id=\"df-be3c4b48-f5f6-41c3-9a0d-da7fc8d14b44\">\n",
              "    <div class=\"colab-df-container\">\n",
              "      <div>\n",
              "<style scoped>\n",
              "    .dataframe tbody tr th:only-of-type {\n",
              "        vertical-align: middle;\n",
              "    }\n",
              "\n",
              "    .dataframe tbody tr th {\n",
              "        vertical-align: top;\n",
              "    }\n",
              "\n",
              "    .dataframe thead th {\n",
              "        text-align: right;\n",
              "    }\n",
              "</style>\n",
              "<table border=\"1\" class=\"dataframe\">\n",
              "  <thead>\n",
              "    <tr style=\"text-align: right;\">\n",
              "      <th></th>\n",
              "      <th>Visit</th>\n",
              "      <th>MR Delay</th>\n",
              "      <th>Age</th>\n",
              "      <th>EDUC</th>\n",
              "      <th>SES</th>\n",
              "      <th>MMSE</th>\n",
              "      <th>CDR</th>\n",
              "      <th>eTIV</th>\n",
              "      <th>nWBV</th>\n",
              "      <th>ASF</th>\n",
              "      <th>Group_cat</th>\n",
              "      <th>M/F_M</th>\n",
              "    </tr>\n",
              "  </thead>\n",
              "  <tbody>\n",
              "    <tr>\n",
              "      <th>0</th>\n",
              "      <td>1</td>\n",
              "      <td>0</td>\n",
              "      <td>87</td>\n",
              "      <td>14</td>\n",
              "      <td>2.0</td>\n",
              "      <td>27.0</td>\n",
              "      <td>0.0</td>\n",
              "      <td>1986.550000</td>\n",
              "      <td>0.696106</td>\n",
              "      <td>0.883440</td>\n",
              "      <td>2</td>\n",
              "      <td>1</td>\n",
              "    </tr>\n",
              "    <tr>\n",
              "      <th>1</th>\n",
              "      <td>2</td>\n",
              "      <td>457</td>\n",
              "      <td>88</td>\n",
              "      <td>14</td>\n",
              "      <td>2.0</td>\n",
              "      <td>30.0</td>\n",
              "      <td>0.0</td>\n",
              "      <td>2004.479526</td>\n",
              "      <td>0.681062</td>\n",
              "      <td>0.875539</td>\n",
              "      <td>2</td>\n",
              "      <td>1</td>\n",
              "    </tr>\n",
              "    <tr>\n",
              "      <th>2</th>\n",
              "      <td>1</td>\n",
              "      <td>0</td>\n",
              "      <td>75</td>\n",
              "      <td>12</td>\n",
              "      <td>2.0</td>\n",
              "      <td>23.0</td>\n",
              "      <td>0.5</td>\n",
              "      <td>1678.290000</td>\n",
              "      <td>0.736336</td>\n",
              "      <td>1.045710</td>\n",
              "      <td>1</td>\n",
              "      <td>1</td>\n",
              "    </tr>\n",
              "    <tr>\n",
              "      <th>3</th>\n",
              "      <td>2</td>\n",
              "      <td>560</td>\n",
              "      <td>76</td>\n",
              "      <td>12</td>\n",
              "      <td>2.0</td>\n",
              "      <td>28.0</td>\n",
              "      <td>0.5</td>\n",
              "      <td>1737.620000</td>\n",
              "      <td>0.713402</td>\n",
              "      <td>1.010000</td>\n",
              "      <td>1</td>\n",
              "      <td>1</td>\n",
              "    </tr>\n",
              "    <tr>\n",
              "      <th>4</th>\n",
              "      <td>3</td>\n",
              "      <td>1895</td>\n",
              "      <td>80</td>\n",
              "      <td>12</td>\n",
              "      <td>2.0</td>\n",
              "      <td>22.0</td>\n",
              "      <td>0.5</td>\n",
              "      <td>1697.911134</td>\n",
              "      <td>0.701236</td>\n",
              "      <td>1.033623</td>\n",
              "      <td>1</td>\n",
              "      <td>1</td>\n",
              "    </tr>\n",
              "  </tbody>\n",
              "</table>\n",
              "</div>\n",
              "      <button class=\"colab-df-convert\" onclick=\"convertToInteractive('df-be3c4b48-f5f6-41c3-9a0d-da7fc8d14b44')\"\n",
              "              title=\"Convert this dataframe to an interactive table.\"\n",
              "              style=\"display:none;\">\n",
              "        \n",
              "  <svg xmlns=\"http://www.w3.org/2000/svg\" height=\"24px\"viewBox=\"0 0 24 24\"\n",
              "       width=\"24px\">\n",
              "    <path d=\"M0 0h24v24H0V0z\" fill=\"none\"/>\n",
              "    <path d=\"M18.56 5.44l.94 2.06.94-2.06 2.06-.94-2.06-.94-.94-2.06-.94 2.06-2.06.94zm-11 1L8.5 8.5l.94-2.06 2.06-.94-2.06-.94L8.5 2.5l-.94 2.06-2.06.94zm10 10l.94 2.06.94-2.06 2.06-.94-2.06-.94-.94-2.06-.94 2.06-2.06.94z\"/><path d=\"M17.41 7.96l-1.37-1.37c-.4-.4-.92-.59-1.43-.59-.52 0-1.04.2-1.43.59L10.3 9.45l-7.72 7.72c-.78.78-.78 2.05 0 2.83L4 21.41c.39.39.9.59 1.41.59.51 0 1.02-.2 1.41-.59l7.78-7.78 2.81-2.81c.8-.78.8-2.07 0-2.86zM5.41 20L4 18.59l7.72-7.72 1.47 1.35L5.41 20z\"/>\n",
              "  </svg>\n",
              "      </button>\n",
              "      \n",
              "  <style>\n",
              "    .colab-df-container {\n",
              "      display:flex;\n",
              "      flex-wrap:wrap;\n",
              "      gap: 12px;\n",
              "    }\n",
              "\n",
              "    .colab-df-convert {\n",
              "      background-color: #E8F0FE;\n",
              "      border: none;\n",
              "      border-radius: 50%;\n",
              "      cursor: pointer;\n",
              "      display: none;\n",
              "      fill: #1967D2;\n",
              "      height: 32px;\n",
              "      padding: 0 0 0 0;\n",
              "      width: 32px;\n",
              "    }\n",
              "\n",
              "    .colab-df-convert:hover {\n",
              "      background-color: #E2EBFA;\n",
              "      box-shadow: 0px 1px 2px rgba(60, 64, 67, 0.3), 0px 1px 3px 1px rgba(60, 64, 67, 0.15);\n",
              "      fill: #174EA6;\n",
              "    }\n",
              "\n",
              "    [theme=dark] .colab-df-convert {\n",
              "      background-color: #3B4455;\n",
              "      fill: #D2E3FC;\n",
              "    }\n",
              "\n",
              "    [theme=dark] .colab-df-convert:hover {\n",
              "      background-color: #434B5C;\n",
              "      box-shadow: 0px 1px 3px 1px rgba(0, 0, 0, 0.15);\n",
              "      filter: drop-shadow(0px 1px 2px rgba(0, 0, 0, 0.3));\n",
              "      fill: #FFFFFF;\n",
              "    }\n",
              "  </style>\n",
              "\n",
              "      <script>\n",
              "        const buttonEl =\n",
              "          document.querySelector('#df-be3c4b48-f5f6-41c3-9a0d-da7fc8d14b44 button.colab-df-convert');\n",
              "        buttonEl.style.display =\n",
              "          google.colab.kernel.accessAllowed ? 'block' : 'none';\n",
              "\n",
              "        async function convertToInteractive(key) {\n",
              "          const element = document.querySelector('#df-be3c4b48-f5f6-41c3-9a0d-da7fc8d14b44');\n",
              "          const dataTable =\n",
              "            await google.colab.kernel.invokeFunction('convertToInteractive',\n",
              "                                                     [key], {});\n",
              "          if (!dataTable) return;\n",
              "\n",
              "          const docLinkHtml = 'Like what you see? Visit the ' +\n",
              "            '<a target=\"_blank\" href=https://colab.research.google.com/notebooks/data_table.ipynb>data table notebook</a>'\n",
              "            + ' to learn more about interactive tables.';\n",
              "          element.innerHTML = '';\n",
              "          dataTable['output_type'] = 'display_data';\n",
              "          await google.colab.output.renderOutput(dataTable, element);\n",
              "          const docLink = document.createElement('div');\n",
              "          docLink.innerHTML = docLinkHtml;\n",
              "          element.appendChild(docLink);\n",
              "        }\n",
              "      </script>\n",
              "    </div>\n",
              "  </div>\n",
              "  "
            ]
          },
          "metadata": {},
          "execution_count": 19
        }
      ]
    },
    {
      "cell_type": "code",
      "source": [
        "data.dtypes"
      ],
      "metadata": {
        "colab": {
          "base_uri": "https://localhost:8080/"
        },
        "id": "R1Uvov8BGzKd",
        "outputId": "6a0f2b17-fd36-4db4-aaef-b25931bec881"
      },
      "execution_count": null,
      "outputs": [
        {
          "output_type": "execute_result",
          "data": {
            "text/plain": [
              "Visit          int64\n",
              "MR Delay       int64\n",
              "Age            int64\n",
              "EDUC           int64\n",
              "SES          float64\n",
              "MMSE         float64\n",
              "CDR          float64\n",
              "eTIV         float64\n",
              "nWBV         float64\n",
              "ASF          float64\n",
              "Group_cat      int64\n",
              "M/F_M          uint8\n",
              "dtype: object"
            ]
          },
          "metadata": {},
          "execution_count": 20
        }
      ]
    },
    {
      "cell_type": "markdown",
      "source": [
        "# **Splitting Dataset**"
      ],
      "metadata": {
        "id": "uZUVdQRvU652"
      }
    },
    {
      "cell_type": "code",
      "source": [
        "X = data.drop(['Group_cat'],axis=1)\n",
        "y = data['Group_cat']"
      ],
      "metadata": {
        "id": "4xBPMMSNFguY"
      },
      "execution_count": null,
      "outputs": []
    },
    {
      "cell_type": "code",
      "source": [
        "from sklearn.model_selection import train_test_split\n",
        "X_train, X_test, y_train, y_test = train_test_split(X, y, test_size=0.3, random_state=20, stratify=y)"
      ],
      "metadata": {
        "id": "xUWAJn4kfrnT"
      },
      "execution_count": null,
      "outputs": []
    },
    {
      "cell_type": "markdown",
      "source": [
        "**STANDARDIZATION**"
      ],
      "metadata": {
        "id": "S_TBDv16VDUX"
      }
    },
    {
      "cell_type": "code",
      "source": [
        "from sklearn.preprocessing import StandardScaler\n",
        "\n",
        "scaler = StandardScaler()\n",
        "scaler.fit(X_train)\n",
        "\n",
        "X_train=scaler.fit_transform(X_train)\n",
        "X_test=scaler.fit_transform(X_test)"
      ],
      "metadata": {
        "id": "qIYHr1d_Lb0B"
      },
      "execution_count": null,
      "outputs": []
    },
    {
      "cell_type": "markdown",
      "source": [
        "# **Base Model Training**"
      ],
      "metadata": {
        "id": "kk-LS8f1VR3k"
      }
    },
    {
      "cell_type": "markdown",
      "source": [
        "**Logistic Regression**"
      ],
      "metadata": {
        "id": "VbZpet3eVb6a"
      }
    },
    {
      "cell_type": "code",
      "source": [
        "# logistic regression object\n",
        "lr = LogisticRegression()\n",
        "  \n",
        "# train the model on train set\n",
        "lr.fit(X_train, y_train.ravel())\n",
        "  \n",
        "predictions = lr.predict(X_test)\n",
        "  \n",
        "# print classification report\n",
        "print(classification_report(y_test, predictions))"
      ],
      "metadata": {
        "colab": {
          "base_uri": "https://localhost:8080/"
        },
        "id": "rdiLME-QLhkw",
        "outputId": "6caa4511-43c3-4328-e3d1-3c426581a5fd"
      },
      "execution_count": null,
      "outputs": [
        {
          "output_type": "stream",
          "name": "stdout",
          "text": [
            "              precision    recall  f1-score   support\n",
            "\n",
            "           0       1.00      0.18      0.31        11\n",
            "           1       0.88      1.00      0.94        44\n",
            "           2       0.93      0.98      0.96        57\n",
            "\n",
            "    accuracy                           0.91       112\n",
            "   macro avg       0.94      0.72      0.73       112\n",
            "weighted avg       0.92      0.91      0.89       112\n",
            "\n"
          ]
        }
      ]
    },
    {
      "cell_type": "markdown",
      "source": [
        "**SVM**"
      ],
      "metadata": {
        "id": "KEO6hNEKmfMB"
      }
    },
    {
      "cell_type": "code",
      "source": [
        "\n",
        "model_svm=svm.SVC(kernel='linear')\n",
        "\n",
        "model_svm.fit(X_train,y_train.ravel())\n",
        "\n",
        "X_train_pred=model_svm.predict(X_train)\n",
        "\n",
        "predi_svm=model_svm.predict(X_test)\n",
        "\n",
        "print(classification_report(y_test, predi_svm))"
      ],
      "metadata": {
        "colab": {
          "base_uri": "https://localhost:8080/"
        },
        "id": "tq2N5Ca-MC1v",
        "outputId": "0aaf0daa-355a-4ff7-e62d-ad1eb1122bf0"
      },
      "execution_count": null,
      "outputs": [
        {
          "output_type": "stream",
          "name": "stdout",
          "text": [
            "              precision    recall  f1-score   support\n",
            "\n",
            "           0       1.00      0.18      0.31        11\n",
            "           1       0.88      1.00      0.94        44\n",
            "           2       0.93      0.98      0.96        57\n",
            "\n",
            "    accuracy                           0.91       112\n",
            "   macro avg       0.94      0.72      0.73       112\n",
            "weighted avg       0.92      0.91      0.89       112\n",
            "\n"
          ]
        }
      ]
    },
    {
      "cell_type": "markdown",
      "source": [
        "**Decision Tree**"
      ],
      "metadata": {
        "id": "6sfdxiwInnHb"
      }
    },
    {
      "cell_type": "code",
      "source": [
        "from sklearn.tree import DecisionTreeClassifier\n",
        "\n",
        "# train the model on train set\n",
        "dt = DecisionTreeClassifier()\n",
        "dt.fit(X_train, y_train.ravel())\n",
        "predi_dt = dt.predict(X_test)\n",
        "  \n",
        "# print classification report\n",
        "print(classification_report(y_test, predi_dt))"
      ],
      "metadata": {
        "colab": {
          "base_uri": "https://localhost:8080/"
        },
        "id": "igAg4NWWmhdF",
        "outputId": "e775a9e9-9ec0-48e8-e639-fbe9d4143714"
      },
      "execution_count": null,
      "outputs": [
        {
          "output_type": "stream",
          "name": "stdout",
          "text": [
            "              precision    recall  f1-score   support\n",
            "\n",
            "           0       0.33      0.27      0.30        11\n",
            "           1       0.88      1.00      0.94        44\n",
            "           2       0.94      0.88      0.91        57\n",
            "\n",
            "    accuracy                           0.87       112\n",
            "   macro avg       0.72      0.72      0.72       112\n",
            "weighted avg       0.86      0.87      0.86       112\n",
            "\n"
          ]
        }
      ]
    },
    {
      "cell_type": "markdown",
      "source": [
        "**KNN**"
      ],
      "metadata": {
        "id": "WkkyCzP8ns4J"
      }
    },
    {
      "cell_type": "code",
      "source": [
        "from sklearn.neighbors import KNeighborsClassifier\n",
        "\n",
        "knn = KNeighborsClassifier(n_neighbors=7)\n",
        " \n",
        "knn.fit(X_train, y_train.ravel())\n",
        " \n",
        "\n",
        "predi_knn = knn.predict(X_test)  \n",
        "# print classification report\n",
        "print(classification_report(y_test, predi_knn))"
      ],
      "metadata": {
        "colab": {
          "base_uri": "https://localhost:8080/"
        },
        "id": "J067cGIcm3Oz",
        "outputId": "f116d86e-a187-4062-a6b5-84962fdf58e2"
      },
      "execution_count": null,
      "outputs": [
        {
          "output_type": "stream",
          "name": "stdout",
          "text": [
            "              precision    recall  f1-score   support\n",
            "\n",
            "           0       0.50      0.09      0.15        11\n",
            "           1       0.85      0.91      0.88        44\n",
            "           2       0.89      0.98      0.93        57\n",
            "\n",
            "    accuracy                           0.87       112\n",
            "   macro avg       0.75      0.66      0.66       112\n",
            "weighted avg       0.84      0.87      0.84       112\n",
            "\n"
          ]
        }
      ]
    },
    {
      "cell_type": "markdown",
      "source": [
        "**Naive Bayes**"
      ],
      "metadata": {
        "id": "4-X4_dX3ny8R"
      }
    },
    {
      "cell_type": "code",
      "source": [
        "from sklearn import metrics\n",
        "from sklearn.naive_bayes import GaussianNB\n",
        "nb = GaussianNB()\n",
        "nb.fit(X_train,y_train.ravel())\n",
        "\n",
        "X_train_pred=nb.predict(X_train)\n",
        "\n",
        "predi_nb=nb.predict(X_test)\n",
        "\n",
        "print(classification_report(y_test, predi_nb))"
      ],
      "metadata": {
        "colab": {
          "base_uri": "https://localhost:8080/"
        },
        "id": "5Icgy3QZnKbQ",
        "outputId": "19b89ee1-e64e-434c-87a6-05867948bff3"
      },
      "execution_count": null,
      "outputs": [
        {
          "output_type": "stream",
          "name": "stdout",
          "text": [
            "              precision    recall  f1-score   support\n",
            "\n",
            "           0       0.60      0.27      0.37        11\n",
            "           1       0.90      0.98      0.93        44\n",
            "           2       0.93      0.96      0.95        57\n",
            "\n",
            "    accuracy                           0.90       112\n",
            "   macro avg       0.81      0.74      0.75       112\n",
            "weighted avg       0.89      0.90      0.89       112\n",
            "\n"
          ]
        }
      ]
    },
    {
      "cell_type": "markdown",
      "source": [
        "**Adaboost**"
      ],
      "metadata": {
        "id": "FOpeAb8Hnw6P"
      }
    },
    {
      "cell_type": "code",
      "source": [
        "from sklearn.ensemble import AdaBoostClassifier\n",
        "\n",
        "from sklearn.svm import SVC\n",
        "\n",
        "from sklearn import metrics\n",
        "svc=SVC(probability=True, kernel='linear')\n",
        "# Create adaboost classifer object\n",
        "abc =AdaBoostClassifier(n_estimators=50, base_estimator=svc,learning_rate=1)\n",
        "\n",
        "# Train Adaboost Classifer\n",
        "model_abc = abc.fit(X_train, y_train.ravel())\n",
        "\n",
        "#Predict the response for test dataset\n",
        "predi_abc=model_abc.predict(X_test)\n",
        "\n",
        "\n",
        "print(classification_report(y_test, predi_abc))"
      ],
      "metadata": {
        "colab": {
          "base_uri": "https://localhost:8080/"
        },
        "id": "hcN-YOlLnZLW",
        "outputId": "9b00465a-9885-412b-de58-e9f023ac8ed0"
      },
      "execution_count": null,
      "outputs": [
        {
          "output_type": "stream",
          "name": "stdout",
          "text": [
            "              precision    recall  f1-score   support\n",
            "\n",
            "           0       0.00      0.00      0.00        11\n",
            "           1       0.89      0.91      0.90        44\n",
            "           2       0.85      1.00      0.92        57\n",
            "\n",
            "    accuracy                           0.87       112\n",
            "   macro avg       0.58      0.64      0.61       112\n",
            "weighted avg       0.78      0.87      0.82       112\n",
            "\n"
          ]
        },
        {
          "output_type": "stream",
          "name": "stderr",
          "text": [
            "/usr/local/lib/python3.7/dist-packages/sklearn/metrics/_classification.py:1318: UndefinedMetricWarning: Precision and F-score are ill-defined and being set to 0.0 in labels with no predicted samples. Use `zero_division` parameter to control this behavior.\n",
            "  _warn_prf(average, modifier, msg_start, len(result))\n",
            "/usr/local/lib/python3.7/dist-packages/sklearn/metrics/_classification.py:1318: UndefinedMetricWarning: Precision and F-score are ill-defined and being set to 0.0 in labels with no predicted samples. Use `zero_division` parameter to control this behavior.\n",
            "  _warn_prf(average, modifier, msg_start, len(result))\n",
            "/usr/local/lib/python3.7/dist-packages/sklearn/metrics/_classification.py:1318: UndefinedMetricWarning: Precision and F-score are ill-defined and being set to 0.0 in labels with no predicted samples. Use `zero_division` parameter to control this behavior.\n",
            "  _warn_prf(average, modifier, msg_start, len(result))\n"
          ]
        }
      ]
    },
    {
      "cell_type": "markdown",
      "source": [
        "# **OVER SAMPLING**"
      ],
      "metadata": {
        "id": "HzUdmUYdRJuU"
      }
    },
    {
      "cell_type": "code",
      "source": [
        "from imblearn.over_sampling import SMOTE\n",
        "sm = SMOTE(random_state = 400)\n",
        "X_train_os, y_train_os = sm.fit_resample(X_train, y_train.ravel())\n",
        "  \n",
        "print('After OverSampling, the shape of train_X: {}'.format(X_train_os.shape))\n",
        "print('After OverSampling, the shape of train_y: {} \\n'.format(y_train_os.shape))\n",
        "\n",
        "print(\"After OverSampling, counts of label '0': {}\".format(sum(y_train_os == 0)))\n",
        "print(\"After OverSampling, counts of label '1': {}\".format(sum(y_train_os == 1)))\n",
        "print(\"After OverSampling, counts of label '2': {}\".format(sum(y_train_os == 2)))\n"
      ],
      "metadata": {
        "colab": {
          "base_uri": "https://localhost:8080/"
        },
        "id": "YUECPimCRGbM",
        "outputId": "3c741ec3-17a2-4742-f1e1-fec25155b177"
      },
      "execution_count": null,
      "outputs": [
        {
          "output_type": "stream",
          "name": "stdout",
          "text": [
            "After OverSampling, the shape of train_X: (399, 11)\n",
            "After OverSampling, the shape of train_y: (399,) \n",
            "\n",
            "After OverSampling, counts of label '0': 133\n",
            "After OverSampling, counts of label '1': 133\n",
            "After OverSampling, counts of label '2': 133\n"
          ]
        }
      ]
    },
    {
      "cell_type": "markdown",
      "source": [
        "# **MODEL EVALUATION AFTER OVERSAMPLING**"
      ],
      "metadata": {
        "id": "4hWhqoc1RoPh"
      }
    },
    {
      "cell_type": "markdown",
      "source": [
        "**Logistic Regression(OS)**"
      ],
      "metadata": {
        "id": "Bj63pED-Rz-N"
      }
    },
    {
      "cell_type": "code",
      "source": [
        "# logistic regression object\n",
        "lr_os = LogisticRegression()\n",
        "lr_os.fit(X_train_os, y_train_os.ravel())\n",
        "predi_os_lr = lr_os.predict(X_test)\n",
        "  \n",
        "# print classification report\n",
        "print(classification_report(y_test, predi_os_lr))"
      ],
      "metadata": {
        "colab": {
          "base_uri": "https://localhost:8080/"
        },
        "id": "V3mm4bYrRxBD",
        "outputId": "0cc388dd-f813-429f-abf1-68efce794320"
      },
      "execution_count": null,
      "outputs": [
        {
          "output_type": "stream",
          "name": "stdout",
          "text": [
            "              precision    recall  f1-score   support\n",
            "\n",
            "           0       0.44      0.36      0.40        11\n",
            "           1       0.90      1.00      0.95        44\n",
            "           2       0.94      0.89      0.92        57\n",
            "\n",
            "    accuracy                           0.88       112\n",
            "   macro avg       0.76      0.75      0.76       112\n",
            "weighted avg       0.88      0.88      0.88       112\n",
            "\n"
          ]
        }
      ]
    },
    {
      "cell_type": "markdown",
      "source": [
        "**KNN(OS)**"
      ],
      "metadata": {
        "id": "2jm-d0gtSDlW"
      }
    },
    {
      "cell_type": "code",
      "source": [
        "from sklearn.neighbors import KNeighborsClassifier\n",
        "\n",
        "knn_os = KNeighborsClassifier(n_neighbors=7)\n",
        " \n",
        "knn_os.fit(X_train_os, y_train_os.ravel())\n",
        " \n",
        "\n",
        "predi_os_knn = knn_os.predict(X_test)  \n",
        "# print classification report\n",
        "print(classification_report(y_test, predi_os_knn))"
      ],
      "metadata": {
        "colab": {
          "base_uri": "https://localhost:8080/"
        },
        "id": "VuXW1ln7SBdi",
        "outputId": "57e7ae9f-7f4f-4058-ab41-e480ae16477a"
      },
      "execution_count": null,
      "outputs": [
        {
          "output_type": "stream",
          "name": "stdout",
          "text": [
            "              precision    recall  f1-score   support\n",
            "\n",
            "           0       0.24      0.64      0.35        11\n",
            "           1       0.88      0.82      0.85        44\n",
            "           2       0.98      0.72      0.83        57\n",
            "\n",
            "    accuracy                           0.75       112\n",
            "   macro avg       0.70      0.72      0.68       112\n",
            "weighted avg       0.87      0.75      0.79       112\n",
            "\n"
          ]
        }
      ]
    },
    {
      "cell_type": "markdown",
      "source": [
        "**DECISION TREE(OS)**"
      ],
      "metadata": {
        "id": "PgM0M2ZPSETu"
      }
    },
    {
      "cell_type": "code",
      "source": [
        "from sklearn.tree import DecisionTreeClassifier\n",
        "\n",
        "# train the model on train set\n",
        "dt_os = DecisionTreeClassifier()\n",
        "dt_os.fit(X_train_os, y_train_os.ravel())\n",
        "predi_os_dt = dt_os.predict(X_test)\n",
        "  \n",
        "# print classification report\n",
        "print(classification_report(y_test, predi_os_dt))"
      ],
      "metadata": {
        "colab": {
          "base_uri": "https://localhost:8080/"
        },
        "id": "aVhR-6LnSBp9",
        "outputId": "8e90b049-0ecb-4ec0-bae1-d9458c94f830"
      },
      "execution_count": null,
      "outputs": [
        {
          "output_type": "stream",
          "name": "stdout",
          "text": [
            "              precision    recall  f1-score   support\n",
            "\n",
            "           0       0.11      0.36      0.17        11\n",
            "           1       0.87      0.89      0.88        44\n",
            "           2       0.94      0.51      0.66        57\n",
            "\n",
            "    accuracy                           0.64       112\n",
            "   macro avg       0.64      0.59      0.57       112\n",
            "weighted avg       0.83      0.64      0.70       112\n",
            "\n"
          ]
        }
      ]
    },
    {
      "cell_type": "markdown",
      "source": [
        "**SVM(OS)**"
      ],
      "metadata": {
        "id": "sWwuedamSEdX"
      }
    },
    {
      "cell_type": "code",
      "source": [
        "svm_os=svm.SVC(kernel='linear')\n",
        "\n",
        "svm_os.fit(X_train_os,y_train_os.ravel())\n",
        "\n",
        "X_train_pred=svm_os.predict(X_train_os)\n",
        "\n",
        "predi_os_svm=svm_os.predict(X_test)\n",
        "\n",
        "print(classification_report(y_test, predi_os_svm))"
      ],
      "metadata": {
        "colab": {
          "base_uri": "https://localhost:8080/"
        },
        "id": "iWa-w396SCD_",
        "outputId": "e5cf848d-9398-4759-e24b-ce865ec5c848"
      },
      "execution_count": null,
      "outputs": [
        {
          "output_type": "stream",
          "name": "stdout",
          "text": [
            "              precision    recall  f1-score   support\n",
            "\n",
            "           0       0.43      0.27      0.33        11\n",
            "           1       0.88      1.00      0.94        44\n",
            "           2       0.95      0.91      0.93        57\n",
            "\n",
            "    accuracy                           0.88       112\n",
            "   macro avg       0.75      0.73      0.73       112\n",
            "weighted avg       0.87      0.88      0.87       112\n",
            "\n"
          ]
        }
      ]
    },
    {
      "cell_type": "markdown",
      "source": [
        "**NAIVE BAYES(OS)**"
      ],
      "metadata": {
        "id": "JuYYkyv2SExd"
      }
    },
    {
      "cell_type": "code",
      "source": [
        "from sklearn import metrics\n",
        "from sklearn.naive_bayes import GaussianNB\n",
        "nb_os = GaussianNB()\n",
        "nb_os.fit(X_train_os,y_train_os.ravel())\n",
        "\n",
        "X_train_pred=nb_os.predict(X_train_os)\n",
        "\n",
        "predi_os_nb=nb_os.predict(X_test)\n",
        "\n",
        "print(classification_report(y_test, predi_os_nb))"
      ],
      "metadata": {
        "colab": {
          "base_uri": "https://localhost:8080/"
        },
        "id": "ojUvfeQRSB5V",
        "outputId": "b6294c49-6935-46dd-dca4-eb7b20fe6e14"
      },
      "execution_count": null,
      "outputs": [
        {
          "output_type": "stream",
          "name": "stdout",
          "text": [
            "              precision    recall  f1-score   support\n",
            "\n",
            "           0       0.29      0.36      0.32        11\n",
            "           1       0.91      0.89      0.90        44\n",
            "           2       0.93      0.89      0.91        57\n",
            "\n",
            "    accuracy                           0.84       112\n",
            "   macro avg       0.71      0.71      0.71       112\n",
            "weighted avg       0.86      0.84      0.85       112\n",
            "\n"
          ]
        }
      ]
    },
    {
      "cell_type": "markdown",
      "source": [
        "**ADABOOST(OS)**"
      ],
      "metadata": {
        "id": "7Vmy6cnhSEmi"
      }
    },
    {
      "cell_type": "code",
      "source": [
        "from sklearn.ensemble import AdaBoostClassifier\n",
        "\n",
        "from sklearn.svm import SVC\n",
        "\n",
        "from sklearn import metrics\n",
        "svc=SVC(probability=True, kernel='linear')\n",
        "# Create adaboost classifer object\n",
        "abc_os =AdaBoostClassifier(n_estimators=50, base_estimator=svc,learning_rate=1)\n",
        "\n",
        "# Train Adaboost Classifer\n",
        "model_abc = abc_os.fit(X_train_os, y_train_os.ravel())\n",
        "\n",
        "#Predict the response for test dataset\n",
        "predi_os_abc=model_abc.predict(X_test)\n",
        "\n",
        "\n",
        "print(classification_report(y_test, predi_os_abc))"
      ],
      "metadata": {
        "colab": {
          "base_uri": "https://localhost:8080/"
        },
        "id": "nUVI644hSCM1",
        "outputId": "c89ce945-8e71-435b-9098-3fb9e5f4ddcb"
      },
      "execution_count": null,
      "outputs": [
        {
          "output_type": "stream",
          "name": "stdout",
          "text": [
            "              precision    recall  f1-score   support\n",
            "\n",
            "           0       0.20      0.36      0.26        11\n",
            "           1       0.88      1.00      0.94        44\n",
            "           2       0.95      0.70      0.81        57\n",
            "\n",
            "    accuracy                           0.79       112\n",
            "   macro avg       0.68      0.69      0.67       112\n",
            "weighted avg       0.85      0.79      0.80       112\n",
            "\n"
          ]
        }
      ]
    }
  ]
}
